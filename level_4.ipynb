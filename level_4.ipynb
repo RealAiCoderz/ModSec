{
 "cells": [
  {
   "cell_type": "code",
   "execution_count": 1,
   "metadata": {},
   "outputs": [],
   "source": [
    "import pandas as pd\n",
    "import matplotlib.pyplot as plt"
   ]
  },
  {
   "cell_type": "code",
   "execution_count": 8,
   "metadata": {},
   "outputs": [],
   "source": [
    "df_sales = pd.read_csv('sales.csv')\n",
    "df_sales['date'] = pd.to_datetime(df_sales['date'],format='%d-%m-%Y')\n",
    "df_products = pd.read_csv('products.csv')\n"
   ]
  },
  {
   "cell_type": "code",
   "execution_count": 10,
   "metadata": {},
   "outputs": [],
   "source": [
    "# merge df_sales and df_products on product_id\n",
    "df_sales_product = pd.merge(df_sales, df_products, on='product_id')"
   ]
  },
  {
   "cell_type": "code",
   "execution_count": 15,
   "metadata": {},
   "outputs": [
    {
     "name": "stdout",
     "output_type": "stream",
     "text": [
      "      category  sales_amount\n",
      "0       Beauty         36100\n",
      "1     Clothing         26900\n",
      "2  Electronics         34100\n",
      "3   Home Decor         30200\n",
      "4       Sports         22600\n"
     ]
    }
   ],
   "source": [
    "# group by category and sum the sales_amount\n",
    "df_product_category_sum = df_sales_product.groupby('category')['sales_amount'].sum().reset_index()\n",
    "print(df_product_category_sum)"
   ]
  },
  {
   "cell_type": "code",
   "execution_count": 17,
   "metadata": {},
   "outputs": [
    {
     "name": "stdout",
     "output_type": "stream",
     "text": [
      "month_year\n",
      "2022-01    1470.967742\n",
      "2022-02    1521.428571\n",
      "2022-03    1506.451613\n",
      "2022-04    1500.000000\n",
      "Freq: M, Name: sales_amount, dtype: float64\n"
     ]
    }
   ],
   "source": [
    "# avg sales per month \n",
    "df_sales['month_year'] = pd.to_datetime(df_sales['date']).dt.to_period('M')\n",
    "df_sales_avg = df_sales.groupby('month_year').mean()['sales_amount']\n",
    "print(df_sales_avg)\n"
   ]
  },
  {
   "cell_type": "code",
   "execution_count": 22,
   "metadata": {},
   "outputs": [
    {
     "name": "stdout",
     "output_type": "stream",
     "text": [
      "  region_name  sales_amount\n",
      "0     Central         13100\n",
      "1  East Coast         25400\n",
      "2     Midwest         23600\n",
      "3    Mountain          8100\n",
      "4   Northeast         12400\n",
      "5   Northwest         14500\n",
      "6       South         13400\n",
      "7   Southeast         11900\n",
      "8   Southwest          8800\n",
      "9  West Coast         18700\n"
     ]
    }
   ],
   "source": [
    "df_regions = pd.read_csv('regions.csv')\n",
    "df_sales_region = pd.merge(df_sales, df_regions, on='region_id')\n",
    "# aggregate sales_amount per region\n",
    "df_region_agg_sales_sum = df_sales_region.groupby('region_name')['sales_amount'].sum().reset_index()\n",
    "print(df_region_agg_sales_sum)"
   ]
  },
  {
   "cell_type": "code",
   "execution_count": 32,
   "metadata": {},
   "outputs": [
    {
     "name": "stdout",
     "output_type": "stream",
     "text": [
      "        city  sales_amount  count\n",
      "2    Anytown   1357.894737     19\n",
      "5  Somewhere   1416.666667     24\n",
      "0    Anycity   1475.000000      8\n",
      "1   Anyplace   1550.000000      2\n",
      "4  Othertown   1595.833333     24\n",
      "3    Nowhere   1604.347826     23\n"
     ]
    }
   ],
   "source": [
    "df_customers = pd.read_csv('customers.csv')\n",
    "df_customers['city'] = df_customers['address'].str.split(',').str[-2].str.strip()\n",
    "df_sales_customer = pd.merge(df_sales, df_customers, on='customer_id')\n",
    "# aggregate sales_amount per city\n",
    "df_city_agg_sales_sum = df_sales_customer.groupby('city')['sales_amount'].mean().reset_index()\n",
    "df_city_count = df_sales_customer['city'].value_counts().reset_index()\n",
    "df_city_agg_sales_sum = pd.merge(df_city_agg_sales_sum, df_city_count, on='city').sort_values(by='sales_amount')\n",
    "\n",
    "print(df_city_agg_sales_sum)"
   ]
  },
  {
   "cell_type": "code",
   "execution_count": 39,
   "metadata": {},
   "outputs": [
    {
     "name": "stdout",
     "output_type": "stream",
     "text": [
      "       category       city  sales_amount\n",
      "0        Beauty   Anyplace   2200.000000\n",
      "1        Beauty    Anytown   1940.000000\n",
      "2        Beauty    Nowhere   1650.000000\n",
      "3        Beauty  Othertown   1750.000000\n",
      "4        Beauty  Somewhere   1825.000000\n",
      "5      Clothing    Anytown   1000.000000\n",
      "6      Clothing    Nowhere   1450.000000\n",
      "7      Clothing  Othertown   1600.000000\n",
      "8      Clothing  Somewhere   1180.000000\n",
      "9   Electronics    Anycity   1416.666667\n",
      "10  Electronics    Anytown   1222.222222\n",
      "11  Electronics    Nowhere   1500.000000\n",
      "12  Electronics  Othertown   1650.000000\n",
      "13  Electronics  Somewhere   1000.000000\n",
      "14   Home Decor    Anycity   1650.000000\n",
      "15   Home Decor    Nowhere   1680.000000\n",
      "16   Home Decor  Othertown   1475.000000\n",
      "17   Home Decor  Somewhere   1400.000000\n",
      "18       Sports   Anyplace    900.000000\n",
      "19       Sports    Anytown   1100.000000\n",
      "20       Sports    Nowhere   1700.000000\n",
      "21       Sports  Othertown   1520.000000\n",
      "22       Sports  Somewhere   1550.000000\n"
     ]
    }
   ],
   "source": [
    "# aggregate sales_amount per city per product_type\n",
    "df_sales_customer_product = pd.merge(df_sales_customer, df_products, on='product_id')\n",
    "df_city_product_agg_sales_sum = df_sales_customer_product.groupby(['category', 'city'])['sales_amount'].mean().reset_index()\n",
    "print(df_city_product_agg_sales_sum)"
   ]
  }
 ],
 "metadata": {
  "kernelspec": {
   "display_name": "venv",
   "language": "python",
   "name": "python3"
  },
  "language_info": {
   "codemirror_mode": {
    "name": "ipython",
    "version": 3
   },
   "file_extension": ".py",
   "mimetype": "text/x-python",
   "name": "python",
   "nbconvert_exporter": "python",
   "pygments_lexer": "ipython3",
   "version": "3.8.13"
  }
 },
 "nbformat": 4,
 "nbformat_minor": 2
}
