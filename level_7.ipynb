{
 "cells": [
  {
   "cell_type": "code",
   "execution_count": 1,
   "metadata": {},
   "outputs": [],
   "source": [
    "import pandas as pd"
   ]
  },
  {
   "cell_type": "code",
   "execution_count": 2,
   "metadata": {},
   "outputs": [],
   "source": [
    "df_sales = pd.read_csv('sales.csv')\n",
    "df_sales['date'] = pd.to_datetime(df_sales['date'],format='%d-%m-%Y')\n"
   ]
  },
  {
   "cell_type": "code",
   "execution_count": 4,
   "metadata": {},
   "outputs": [
    {
     "name": "stdout",
     "output_type": "stream",
     "text": [
      "    sales_id  product_id  customer_id  sales_amount       date  region_id\n",
      "0          1         101          201          1000 2022-01-01          1\n",
      "1          2         102          202          1500 2022-01-02          2\n",
      "2          3         103          203           800 2022-01-03          1\n",
      "3          4         104          204          1200 2022-01-04          3\n",
      "4          5         105          205          2000 2022-01-05          1\n",
      "..       ...         ...          ...           ...        ...        ...\n",
      "85        86         186          286          1250 2022-03-27          9\n",
      "86        87         187          287           850 2022-03-28         10\n",
      "87        88         188          288          1950 2022-03-29          1\n",
      "88        89         189          289          1300 2022-03-30          2\n",
      "89        90         190          290          1750 2022-03-31          3\n",
      "\n",
      "[90 rows x 6 columns]\n"
     ]
    }
   ],
   "source": [
    "# filter the data using date column for Quarter1\n",
    "df_sales_q1 = df_sales[(df_sales['date'] >= '2022-01-01') & (df_sales['date'] <= '2022-03-31')]\n",
    "print(df_sales_q1)"
   ]
  },
  {
   "cell_type": "code",
   "execution_count": 6,
   "metadata": {},
   "outputs": [
    {
     "name": "stdout",
     "output_type": "stream",
     "text": [
      "    sales_id  product_id  customer_id  sales_amount       date  region_id\n",
      "0          1         101          201          1000 2022-01-01          1\n",
      "1          2         102          202          1500 2022-01-02          2\n",
      "2          3         103          203           800 2022-01-03          1\n",
      "3          4         104          204          1200 2022-01-04          3\n",
      "4          5         105          205          2000 2022-01-05          1\n",
      "..       ...         ...          ...           ...        ...        ...\n",
      "95        96         196          296          1250 2022-04-06          9\n",
      "96        97         197          297           850 2022-04-07         10\n",
      "97        98         198          298          1950 2022-04-08          1\n",
      "98        99         199          299          1300 2022-04-09          2\n",
      "99       100         200          300          1750 2022-04-10          3\n",
      "\n",
      "[100 rows x 6 columns]\n"
     ]
    }
   ],
   "source": [
    "# filter data for specific year\n",
    "df_sales_2022 = df_sales[df_sales['date'].dt.year == 2022]\n",
    "print(df_sales_2022)"
   ]
  },
  {
   "cell_type": "code",
   "execution_count": 7,
   "metadata": {},
   "outputs": [
    {
     "name": "stdout",
     "output_type": "stream",
     "text": [
      "    sales_id  product_id  customer_id  sales_amount       date  region_id\n",
      "4          5         105          205          2000 2022-01-05          1\n",
      "7          8         108          208          3000 2022-01-08          1\n",
      "10        11         111          211          1300 2022-01-11          1\n",
      "13        14         114          214          1700 2022-01-14          1\n",
      "16        17         117          217          1300 2022-01-17          1\n",
      "47        48         148          248          1900 2022-02-17          1\n",
      "57        58         158          258          1900 2022-02-27          1\n",
      "67        68         168          268          1950 2022-03-09          1\n",
      "77        78         178          278          1950 2022-03-19          1\n",
      "87        88         188          288          1950 2022-03-29          1\n",
      "97        98         198          298          1950 2022-04-08          1\n"
     ]
    }
   ],
   "source": [
    "# boolean indexing\n",
    "# Select rows where sales_amount is greater than 1000 and region_id is 1\n",
    "df_sales_filtered = df_sales.loc[(df_sales['sales_amount'] > 1000) & (df_sales['region_id'] == 1)]\n",
    "\n",
    "# Print the filtered dataframe\n",
    "print(df_sales_filtered)"
   ]
  },
  {
   "cell_type": "code",
   "execution_count": 1,
   "metadata": {},
   "outputs": [
    {
     "name": "stdout",
     "output_type": "stream",
     "text": [
      "    sales_id  product_id  customer_id  sales_amount        date  region_id  \\\n",
      "0          1         101          201          1000  01-01-2022          1   \n",
      "1          3         103          203           800  03-01-2022          1   \n",
      "2          5         105          205          2000  05-01-2022          1   \n",
      "3          8         108          208          3000  08-01-2022          1   \n",
      "4         11         111          211          1300  11-01-2022          1   \n",
      "..       ...         ...          ...           ...         ...        ...   \n",
      "95        57         157          257           800  26-02-2022         10   \n",
      "96        67         167          267           850  08-03-2022         10   \n",
      "97        77         177          277           850  18-03-2022         10   \n",
      "98        87         187          287           850  28-03-2022         10   \n",
      "99        97         197          297           850  07-04-2022         10   \n",
      "\n",
      "   product_name     category  price region_name   customer_name  \\\n",
      "0     Product A  Electronics    500  East Coast        John Doe   \n",
      "1     Product C   Home Decor    300  East Coast    Robert Brown   \n",
      "2     Product E       Beauty   1500  East Coast  Michael Wilson   \n",
      "3     Product H   Home Decor   2000  East Coast     Sarah Clark   \n",
      "4     Product K       Sports    900  East Coast  Kevin Anderson   \n",
      "..          ...          ...    ...         ...             ...   \n",
      "95   Product BE     Clothing    700    Mountain   Grace Ramirez   \n",
      "96   Product BO     Clothing    750    Mountain   Mason Coleman   \n",
      "97   Product BY     Clothing    650    Mountain    Sophia Reyes   \n",
      "98   Product CI     Clothing    750    Mountain  Harper Coleman   \n",
      "99   Product CS     Clothing    650    Mountain    Oliver Reyes   \n",
      "\n",
      "                  email                        address  \n",
      "0      john@example.com      123 Main St, Anytown, USA  \n",
      "1    robert@example.com       789 Oak St, Anycity, USA  \n",
      "2   michael@example.com      654 Pine St, Nowhere, USA  \n",
      "3     sarah@example.com  852 Spruce St, Somewhere, USA  \n",
      "4     kevin@example.com     147 Oak St, Othertown, USA  \n",
      "..                  ...                            ...  \n",
      "95    grace@example.com     586 Maple St, Anytown, USA  \n",
      "96    mason@example.com   587 Maple St, Somewhere, USA  \n",
      "97   sophia@example.com     586 Maple St, Anytown, USA  \n",
      "98   harper@example.com   587 Maple St, Somewhere, USA  \n",
      "99   oliver@example.com     586 Maple St, Anytown, USA  \n",
      "\n",
      "[100 rows x 13 columns]\n"
     ]
    }
   ],
   "source": [
    "import pandas as pd\n",
    "\n",
    "# Read the CSV files into separate DataFrames\n",
    "df_sales = pd.read_csv('sales.csv')\n",
    "df_products = pd.read_csv('products.csv')\n",
    "df_regions = pd.read_csv('regions.csv')\n",
    "df_customers = pd.read_csv('customers.csv')\n",
    "\n",
    "# Perform merge operations to combine the DataFrames\n",
    "df_merged = pd.merge(df_sales, df_products, on='product_id')\n",
    "df_merged = pd.merge(df_merged, df_regions, on='region_id')\n",
    "df_merged = pd.merge(df_merged, df_customers, on='customer_id')\n",
    "\n",
    "# Print or display the merged DataFrame\n",
    "print(df_merged)\n",
    "\n",
    "# write the merged dataframe to a new csv file\n",
    "df_merged.to_csv('merged_sales.csv', index=False,header=True)\n"
   ]
  },
  {
   "cell_type": "code",
   "execution_count": 13,
   "metadata": {},
   "outputs": [
    {
     "name": "stdout",
     "output_type": "stream",
     "text": [
      "             total_sales  average_sales  max_sales\n",
      "region_name                                       \n",
      "Central            13100    1637.500000       3000\n",
      "East Coast         25400    1587.500000       3000\n",
      "Midwest            23600    1685.714286       2500\n",
      "Mountain            8100    1012.500000       1600\n",
      "Northeast          12400    1550.000000       2200\n",
      "Northwest          14500    1812.500000       2200\n",
      "South              13400    1675.000000       1850\n",
      "Southeast          11900    1487.500000       1600\n",
      "Southwest           8800    1100.000000       2100\n",
      "West Coast         18700    1335.714286       2200\n"
     ]
    }
   ],
   "source": [
    "# Define custom metrics functions\n",
    "def total_sales_amount(sales):\n",
    "    return sales.sum()\n",
    "\n",
    "def average_sales_amount(sales):\n",
    "    return sales.mean()\n",
    "\n",
    "def max_sales_amount(sales):\n",
    "    return sales.max()\n",
    "\n",
    "# Group by region and apply custom metrics functions\n",
    "df_sales_grouped = df_merged.groupby('region_name').agg(\n",
    "    total_sales=('sales_amount', total_sales_amount),\n",
    "    average_sales=('sales_amount', average_sales_amount),\n",
    "    max_sales=('sales_amount', max_sales_amount)\n",
    ")\n",
    "\n",
    "# Print the grouped and aggregated dataframe\n",
    "print(df_sales_grouped)\n"
   ]
  }
 ],
 "metadata": {
  "kernelspec": {
   "display_name": "venv",
   "language": "python",
   "name": "python3"
  },
  "language_info": {
   "codemirror_mode": {
    "name": "ipython",
    "version": 3
   },
   "file_extension": ".py",
   "mimetype": "text/x-python",
   "name": "python",
   "nbconvert_exporter": "python",
   "pygments_lexer": "ipython3",
   "version": "3.8.13"
  }
 },
 "nbformat": 4,
 "nbformat_minor": 2
}
