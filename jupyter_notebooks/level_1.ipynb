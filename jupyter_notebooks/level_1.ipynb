{
 "cells": [
  {
   "cell_type": "markdown",
   "id": "035de998",
   "metadata": {},
   "source": [
    "# Level 1"
   ]
  },
  {
   "cell_type": "code",
   "execution_count": 1,
   "id": "e5a7aa28",
   "metadata": {},
   "outputs": [],
   "source": [
    "import numpy as np\n",
    "import pandas as pd"
   ]
  },
  {
   "cell_type": "code",
   "execution_count": 2,
   "id": "bbb903e0",
   "metadata": {},
   "outputs": [
    {
     "data": {
      "text/plain": [
       "\"\\n1. Load +he sales da+ase+ (e.g., 'sales.csv') in+o a Pandas Da+aFrame.\\n2. Display +he frs+ 5 rows o: +he da+ase+.\\n3. Check +he shape (number o: rows and columns) o: +he da+ase+.\\n4. Display basic s+aAsAcs (mean, median, min, max) :or +he 'Sales' column.\\n5. De+ermine +he number o: unique produc+s sold.\\n\""
      ]
     },
     "execution_count": 2,
     "metadata": {},
     "output_type": "execute_result"
    }
   ],
   "source": [
    "'''\n",
    "1. Load +he sales da+ase+ (e.g., 'sales.csv') in+o a Pandas Da+aFrame.\n",
    "2. Display +he frs+ 5 rows o: +he da+ase+.\n",
    "3. Check +he shape (number o: rows and columns) o: +he da+ase+.\n",
    "4. Display basic s+aAsAcs (mean, median, min, max) :or +he 'Sales' column.\n",
    "5. De+ermine +he number o: unique produc+s sold.\n",
    "'''"
   ]
  },
  {
   "cell_type": "markdown",
   "id": "0d5fff67",
   "metadata": {},
   "source": [
    "### 1. Load all datasets into pandas dataframe"
   ]
  },
  {
   "cell_type": "code",
   "execution_count": 3,
   "id": "02ddb9f6",
   "metadata": {},
   "outputs": [],
   "source": [
    "regions = pd.read_csv(\"regions.csv\")\n",
    "products = pd.read_csv(\"products.csv\")\n",
    "customers = pd.read_csv(\"customers.csv\")\n",
    "sales = pd.read_csv(\"sales.csv\")"
   ]
  },
  {
   "cell_type": "markdown",
   "id": "49bd2e99",
   "metadata": {},
   "source": [
    "### 2. Display first 5 rows of the datasets"
   ]
  },
  {
   "cell_type": "code",
   "execution_count": 4,
   "id": "d0a23b53",
   "metadata": {},
   "outputs": [
    {
     "data": {
      "text/html": [
       "<div>\n",
       "<style scoped>\n",
       "    .dataframe tbody tr th:only-of-type {\n",
       "        vertical-align: middle;\n",
       "    }\n",
       "\n",
       "    .dataframe tbody tr th {\n",
       "        vertical-align: top;\n",
       "    }\n",
       "\n",
       "    .dataframe thead th {\n",
       "        text-align: right;\n",
       "    }\n",
       "</style>\n",
       "<table border=\"1\" class=\"dataframe\">\n",
       "  <thead>\n",
       "    <tr style=\"text-align: right;\">\n",
       "      <th></th>\n",
       "      <th>region_id</th>\n",
       "      <th>region_name</th>\n",
       "    </tr>\n",
       "  </thead>\n",
       "  <tbody>\n",
       "    <tr>\n",
       "      <th>0</th>\n",
       "      <td>1</td>\n",
       "      <td>East Coast</td>\n",
       "    </tr>\n",
       "    <tr>\n",
       "      <th>1</th>\n",
       "      <td>2</td>\n",
       "      <td>West Coast</td>\n",
       "    </tr>\n",
       "    <tr>\n",
       "      <th>2</th>\n",
       "      <td>3</td>\n",
       "      <td>Midwest</td>\n",
       "    </tr>\n",
       "    <tr>\n",
       "      <th>3</th>\n",
       "      <td>4</td>\n",
       "      <td>South</td>\n",
       "    </tr>\n",
       "    <tr>\n",
       "      <th>4</th>\n",
       "      <td>5</td>\n",
       "      <td>Northeast</td>\n",
       "    </tr>\n",
       "  </tbody>\n",
       "</table>\n",
       "</div>"
      ],
      "text/plain": [
       "   region_id region_name\n",
       "0          1  East Coast\n",
       "1          2  West Coast\n",
       "2          3     Midwest\n",
       "3          4       South\n",
       "4          5   Northeast"
      ]
     },
     "execution_count": 4,
     "metadata": {},
     "output_type": "execute_result"
    }
   ],
   "source": [
    "regions.head()"
   ]
  },
  {
   "cell_type": "code",
   "execution_count": 5,
   "id": "3fb0ba85",
   "metadata": {},
   "outputs": [
    {
     "data": {
      "text/html": [
       "<div>\n",
       "<style scoped>\n",
       "    .dataframe tbody tr th:only-of-type {\n",
       "        vertical-align: middle;\n",
       "    }\n",
       "\n",
       "    .dataframe tbody tr th {\n",
       "        vertical-align: top;\n",
       "    }\n",
       "\n",
       "    .dataframe thead th {\n",
       "        text-align: right;\n",
       "    }\n",
       "</style>\n",
       "<table border=\"1\" class=\"dataframe\">\n",
       "  <thead>\n",
       "    <tr style=\"text-align: right;\">\n",
       "      <th></th>\n",
       "      <th>product_id</th>\n",
       "      <th>product_name</th>\n",
       "      <th>category</th>\n",
       "      <th>price</th>\n",
       "    </tr>\n",
       "  </thead>\n",
       "  <tbody>\n",
       "    <tr>\n",
       "      <th>0</th>\n",
       "      <td>101</td>\n",
       "      <td>Product A</td>\n",
       "      <td>Electronics</td>\n",
       "      <td>500</td>\n",
       "    </tr>\n",
       "    <tr>\n",
       "      <th>1</th>\n",
       "      <td>102</td>\n",
       "      <td>Product B</td>\n",
       "      <td>Clothing</td>\n",
       "      <td>800</td>\n",
       "    </tr>\n",
       "    <tr>\n",
       "      <th>2</th>\n",
       "      <td>103</td>\n",
       "      <td>Product C</td>\n",
       "      <td>Home Decor</td>\n",
       "      <td>300</td>\n",
       "    </tr>\n",
       "    <tr>\n",
       "      <th>3</th>\n",
       "      <td>104</td>\n",
       "      <td>Product D</td>\n",
       "      <td>Electronics</td>\n",
       "      <td>1000</td>\n",
       "    </tr>\n",
       "    <tr>\n",
       "      <th>4</th>\n",
       "      <td>105</td>\n",
       "      <td>Product E</td>\n",
       "      <td>Beauty</td>\n",
       "      <td>1500</td>\n",
       "    </tr>\n",
       "  </tbody>\n",
       "</table>\n",
       "</div>"
      ],
      "text/plain": [
       "   product_id product_name     category  price\n",
       "0         101    Product A  Electronics    500\n",
       "1         102    Product B     Clothing    800\n",
       "2         103    Product C   Home Decor    300\n",
       "3         104    Product D  Electronics   1000\n",
       "4         105    Product E       Beauty   1500"
      ]
     },
     "execution_count": 5,
     "metadata": {},
     "output_type": "execute_result"
    }
   ],
   "source": [
    "products.head()"
   ]
  },
  {
   "cell_type": "code",
   "execution_count": 6,
   "id": "038dad1b",
   "metadata": {},
   "outputs": [
    {
     "data": {
      "text/html": [
       "<div>\n",
       "<style scoped>\n",
       "    .dataframe tbody tr th:only-of-type {\n",
       "        vertical-align: middle;\n",
       "    }\n",
       "\n",
       "    .dataframe tbody tr th {\n",
       "        vertical-align: top;\n",
       "    }\n",
       "\n",
       "    .dataframe thead th {\n",
       "        text-align: right;\n",
       "    }\n",
       "</style>\n",
       "<table border=\"1\" class=\"dataframe\">\n",
       "  <thead>\n",
       "    <tr style=\"text-align: right;\">\n",
       "      <th></th>\n",
       "      <th>customer_id</th>\n",
       "      <th>customer_name</th>\n",
       "      <th>email</th>\n",
       "      <th>address</th>\n",
       "    </tr>\n",
       "  </thead>\n",
       "  <tbody>\n",
       "    <tr>\n",
       "      <th>0</th>\n",
       "      <td>201</td>\n",
       "      <td>John Doe</td>\n",
       "      <td>john@example.com</td>\n",
       "      <td>123 Main St, Anytown, USA</td>\n",
       "    </tr>\n",
       "    <tr>\n",
       "      <th>1</th>\n",
       "      <td>202</td>\n",
       "      <td>Jane Smith</td>\n",
       "      <td>jane@example.com</td>\n",
       "      <td>456 Elm St, Othertown, USA</td>\n",
       "    </tr>\n",
       "    <tr>\n",
       "      <th>2</th>\n",
       "      <td>203</td>\n",
       "      <td>Robert Brown</td>\n",
       "      <td>robert@example.com</td>\n",
       "      <td>789 Oak St, Anycity, USA</td>\n",
       "    </tr>\n",
       "    <tr>\n",
       "      <th>3</th>\n",
       "      <td>204</td>\n",
       "      <td>Lisa Johnson</td>\n",
       "      <td>lisa@example.com</td>\n",
       "      <td>321 Maple St, Somewhere, USA</td>\n",
       "    </tr>\n",
       "    <tr>\n",
       "      <th>4</th>\n",
       "      <td>205</td>\n",
       "      <td>Michael Wilson</td>\n",
       "      <td>michael@example.com</td>\n",
       "      <td>654 Pine St, Nowhere, USA</td>\n",
       "    </tr>\n",
       "  </tbody>\n",
       "</table>\n",
       "</div>"
      ],
      "text/plain": [
       "   customer_id   customer_name                email  \\\n",
       "0          201        John Doe     john@example.com   \n",
       "1          202      Jane Smith     jane@example.com   \n",
       "2          203    Robert Brown   robert@example.com   \n",
       "3          204    Lisa Johnson     lisa@example.com   \n",
       "4          205  Michael Wilson  michael@example.com   \n",
       "\n",
       "                        address  \n",
       "0     123 Main St, Anytown, USA  \n",
       "1    456 Elm St, Othertown, USA  \n",
       "2      789 Oak St, Anycity, USA  \n",
       "3  321 Maple St, Somewhere, USA  \n",
       "4     654 Pine St, Nowhere, USA  "
      ]
     },
     "execution_count": 6,
     "metadata": {},
     "output_type": "execute_result"
    }
   ],
   "source": [
    "customers.head()"
   ]
  },
  {
   "cell_type": "code",
   "execution_count": 7,
   "id": "30238a2c",
   "metadata": {},
   "outputs": [
    {
     "data": {
      "text/html": [
       "<div>\n",
       "<style scoped>\n",
       "    .dataframe tbody tr th:only-of-type {\n",
       "        vertical-align: middle;\n",
       "    }\n",
       "\n",
       "    .dataframe tbody tr th {\n",
       "        vertical-align: top;\n",
       "    }\n",
       "\n",
       "    .dataframe thead th {\n",
       "        text-align: right;\n",
       "    }\n",
       "</style>\n",
       "<table border=\"1\" class=\"dataframe\">\n",
       "  <thead>\n",
       "    <tr style=\"text-align: right;\">\n",
       "      <th></th>\n",
       "      <th>sales_id</th>\n",
       "      <th>product_id</th>\n",
       "      <th>customer_id</th>\n",
       "      <th>date</th>\n",
       "      <th>region_id</th>\n",
       "      <th>sales_amt</th>\n",
       "    </tr>\n",
       "  </thead>\n",
       "  <tbody>\n",
       "    <tr>\n",
       "      <th>0</th>\n",
       "      <td>1</td>\n",
       "      <td>198</td>\n",
       "      <td>259</td>\n",
       "      <td>2015-01-04</td>\n",
       "      <td>7</td>\n",
       "      <td>1400</td>\n",
       "    </tr>\n",
       "    <tr>\n",
       "      <th>1</th>\n",
       "      <td>2</td>\n",
       "      <td>104</td>\n",
       "      <td>266</td>\n",
       "      <td>2015-01-05</td>\n",
       "      <td>6</td>\n",
       "      <td>1000</td>\n",
       "    </tr>\n",
       "    <tr>\n",
       "      <th>2</th>\n",
       "      <td>3</td>\n",
       "      <td>158</td>\n",
       "      <td>219</td>\n",
       "      <td>2015-01-05</td>\n",
       "      <td>8</td>\n",
       "      <td>1400</td>\n",
       "    </tr>\n",
       "    <tr>\n",
       "      <th>3</th>\n",
       "      <td>4</td>\n",
       "      <td>141</td>\n",
       "      <td>295</td>\n",
       "      <td>2015-01-06</td>\n",
       "      <td>6</td>\n",
       "      <td>900</td>\n",
       "    </tr>\n",
       "    <tr>\n",
       "      <th>4</th>\n",
       "      <td>5</td>\n",
       "      <td>184</td>\n",
       "      <td>295</td>\n",
       "      <td>2015-01-07</td>\n",
       "      <td>10</td>\n",
       "      <td>1200</td>\n",
       "    </tr>\n",
       "  </tbody>\n",
       "</table>\n",
       "</div>"
      ],
      "text/plain": [
       "   sales_id  product_id  customer_id        date  region_id  sales_amt\n",
       "0         1         198          259  2015-01-04          7       1400\n",
       "1         2         104          266  2015-01-05          6       1000\n",
       "2         3         158          219  2015-01-05          8       1400\n",
       "3         4         141          295  2015-01-06          6        900\n",
       "4         5         184          295  2015-01-07         10       1200"
      ]
     },
     "execution_count": 7,
     "metadata": {},
     "output_type": "execute_result"
    }
   ],
   "source": [
    "sales.head()"
   ]
  },
  {
   "cell_type": "markdown",
   "id": "1dbab573",
   "metadata": {},
   "source": [
    "### 3. Check the shapes of the datasets"
   ]
  },
  {
   "cell_type": "code",
   "execution_count": 8,
   "id": "5b1071bc",
   "metadata": {},
   "outputs": [
    {
     "name": "stdout",
     "output_type": "stream",
     "text": [
      "Shape of regions table =  (10, 2)\n",
      "Shape of products table =  (98, 4)\n",
      "Shape of customers table =  (99, 4)\n",
      "Shape of sales table =  (1000, 6)\n"
     ]
    }
   ],
   "source": [
    "print(\"Shape of regions table = \",regions.shape)\n",
    "print(\"Shape of products table = \",products.shape)\n",
    "print(\"Shape of customers table = \",customers.shape)\n",
    "print(\"Shape of sales table = \",sales.shape)"
   ]
  },
  {
   "cell_type": "markdown",
   "id": "862b2448",
   "metadata": {},
   "source": [
    "### 4. Display basic statistics (mean, median, min, max) for the 'sales_amt' column."
   ]
  },
  {
   "cell_type": "code",
   "execution_count": 9,
   "id": "941f317b",
   "metadata": {},
   "outputs": [
    {
     "data": {
      "text/plain": [
       "count    1000.000000\n",
       "mean     1367.800000\n",
       "std       597.168125\n",
       "min       300.000000\n",
       "25%       850.000000\n",
       "50%      1400.000000\n",
       "75%      1800.000000\n",
       "max      2500.000000\n",
       "Name: sales_amt, dtype: float64"
      ]
     },
     "execution_count": 9,
     "metadata": {},
     "output_type": "execute_result"
    }
   ],
   "source": [
    "sales.sales_amt.describe()"
   ]
  },
  {
   "cell_type": "markdown",
   "id": "f4699b4c",
   "metadata": {},
   "source": [
    "### 5.  Display the number of unique products sold"
   ]
  },
  {
   "cell_type": "code",
   "execution_count": 10,
   "id": "8ffed233",
   "metadata": {},
   "outputs": [
    {
     "data": {
      "text/plain": [
       "98"
      ]
     },
     "execution_count": 10,
     "metadata": {},
     "output_type": "execute_result"
    }
   ],
   "source": [
    "sales.product_id.nunique()"
   ]
  }
 ],
 "metadata": {
  "kernelspec": {
   "display_name": "Python 3 (ipykernel)",
   "language": "python",
   "name": "python3"
  },
  "language_info": {
   "codemirror_mode": {
    "name": "ipython",
    "version": 3
   },
   "file_extension": ".py",
   "mimetype": "text/x-python",
   "name": "python",
   "nbconvert_exporter": "python",
   "pygments_lexer": "ipython3",
   "version": "3.11.3"
  }
 },
 "nbformat": 4,
 "nbformat_minor": 5
}
