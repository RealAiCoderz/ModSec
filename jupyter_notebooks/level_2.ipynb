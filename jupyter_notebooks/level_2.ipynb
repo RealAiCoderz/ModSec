{
 "cells": [
  {
   "cell_type": "code",
   "execution_count": 1,
   "id": "38d31c44",
   "metadata": {},
   "outputs": [],
   "source": [
    "import numpy as np\n",
    "import pandas as pd"
   ]
  },
  {
   "cell_type": "raw",
   "id": "54fd6c87",
   "metadata": {},
   "source": [
    "'''\n",
    "1. Handle missing values by flling them with appropriate values (e.g., mean or median).\n",
    "2. Convert categorical variables to numerical representation using one-hot encoding or label encoding.\n",
    "3. Check for and remove any duplicate rows in the datase+.\n",
    "4. Normalize the 'Sales' column to a scale between 0 and 1.\n",
    "5. Identify and remove outliers from the database using appropriate techniques.\n",
    "'''"
   ]
  },
  {
   "cell_type": "code",
   "execution_count": 2,
   "id": "734d500f",
   "metadata": {},
   "outputs": [],
   "source": [
    "regions = pd.read_csv(\"regions.csv\")\n",
    "products = pd.read_csv(\"products.csv\")\n",
    "customers = pd.read_csv(\"customers.csv\")\n",
    "sales = pd.read_csv(\"sales.csv\")"
   ]
  },
  {
   "cell_type": "code",
   "execution_count": null,
   "id": "85d81d2a",
   "metadata": {},
   "outputs": [],
   "source": []
  }
 ],
 "metadata": {
  "kernelspec": {
   "display_name": "Python 3 (ipykernel)",
   "language": "python",
   "name": "python3"
  },
  "language_info": {
   "codemirror_mode": {
    "name": "ipython",
    "version": 3
   },
   "file_extension": ".py",
   "mimetype": "text/x-python",
   "name": "python",
   "nbconvert_exporter": "python",
   "pygments_lexer": "ipython3",
   "version": "3.11.3"
  }
 },
 "nbformat": 4,
 "nbformat_minor": 5
}
